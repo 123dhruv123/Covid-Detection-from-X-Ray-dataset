{
  "nbformat": 4,
  "nbformat_minor": 0,
  "metadata": {
    "colab": {
      "name": "Untitled9.ipynb",
      "provenance": []
    },
    "kernelspec": {
      "name": "python3",
      "display_name": "Python 3"
    }
  },
  "cells": [
    {
      "cell_type": "code",
      "metadata": {
        "id": "RFBlDSMuK9ca",
        "colab_type": "code",
        "colab": {}
      },
      "source": [
        "!wget http://cb.lk/covid_19 # from coding blocks \n",
        "!unzip covid_19 #unzipping"
      ],
      "execution_count": null,
      "outputs": []
    },
    {
      "cell_type": "code",
      "metadata": {
        "id": "84RV3nH1MLZ1",
        "colab_type": "code",
        "colab": {}
      },
      "source": [
        "import numpy as np\n",
        "import matplotlib.pyplot as plt\n",
        "from keras.layers import *\n",
        "from keras.models import *"
      ],
      "execution_count": null,
      "outputs": []
    },
    {
      "cell_type": "code",
      "metadata": {
        "id": "8Tbf3qGrMbdL",
        "colab_type": "code",
        "colab": {}
      },
      "source": [
        "model=Sequential()\n",
        "model.add(Convolution2D(32,(3,3),activation=\"relu\",input_shape=(224,224,3))) #no.of filters,size of filter\n",
        "model.add(Convolution2D(64,(3,3),activation=\"relu\"))\n",
        "model.add(MaxPooling2D(2,2))\n",
        "model.add(Dropout(0.25))\n",
        "\n",
        "model.add(Convolution2D(64,(3,3),activation=\"relu\"))\n",
        "model.add(MaxPooling2D(2,2))\n",
        "model.add(Dropout(0.25))\n",
        "\n",
        "\n",
        "model.add(Convolution2D(128,(3,3),activation=\"relu\"))\n",
        "model.add(MaxPooling2D(2,2))\n",
        "model.add(Dropout(0.25))\n",
        "\n",
        "model.add(Flatten())\n",
        "model.add(Dense(64,activation=\"relu\"))\n",
        "model.add(Dense(1,activation=\"sigmoid\"))\n",
        "model.summary()"
      ],
      "execution_count": null,
      "outputs": []
    },
    {
      "cell_type": "code",
      "metadata": {
        "id": "HDqqr33-Mdk8",
        "colab_type": "code",
        "colab": {}
      },
      "source": [
        "from keras.preprocessing.image import ImageDataGenerator"
      ],
      "execution_count": null,
      "outputs": []
    },
    {
      "cell_type": "code",
      "metadata": {
        "id": "0UjGL4lFMh0M",
        "colab_type": "code",
        "colab": {}
      },
      "source": [
        "train_gen=ImageDataGenerator(\n",
        "            rescale=1/255,\n",
        "            horizontal_flip=True,\n",
        "            shear_range=0.2,\n",
        "            zoom_range=0.2)\n",
        "test_gen=ImageDataGenerator(\n",
        "            rescale=1/255)"
      ],
      "execution_count": null,
      "outputs": []
    },
    {
      "cell_type": "code",
      "metadata": {
        "id": "7781tbqqMl5c",
        "colab_type": "code",
        "colab": {}
      },
      "source": [
        "train_imgs=train_gen.flow_from_directory(\n",
        "            'CovidDataset/Train',\n",
        "            batch_size=32,\n",
        "            target_size=(224,224),\n",
        "            class_mode='binary')\n",
        "val_set=test_gen.flow_from_directory(\n",
        "        'CovidDataset/Val',\n",
        "        batch_size=32,\n",
        "        target_size=(224,224),\n",
        "        class_mode='binary')"
      ],
      "execution_count": null,
      "outputs": []
    },
    {
      "cell_type": "code",
      "metadata": {
        "id": "u8nYnPHmMoUy",
        "colab_type": "code",
        "colab": {}
      },
      "source": [
        "model.compile(loss='binary_crossentropy',optimizer='adam',metrics=['accuracy'])"
      ],
      "execution_count": null,
      "outputs": []
    },
    {
      "cell_type": "code",
      "metadata": {
        "id": "kMKyJ5pTMr9R",
        "colab_type": "code",
        "colab": {
          "base_uri": "https://localhost:8080/",
          "height": 353
        },
        "outputId": "fe86ff74-1b0a-4230-c68f-994d85c9a372"
      },
      "source": [
        "hist=model.fit_generator(\n",
        "        train_imgs,\n",
        "        epochs=10,\n",
        "        steps_per_epoch=5,\n",
        "        validation_data=val_set,\n",
        "        validation_steps=2)"
      ],
      "execution_count": 19,
      "outputs": [
        {
          "output_type": "stream",
          "text": [
            "Epoch 1/10\n",
            "5/5 [==============================] - 46s 9s/step - loss: 0.4205 - accuracy: 0.8000 - val_loss: 0.4307 - val_accuracy: 0.7833\n",
            "Epoch 2/10\n",
            "5/5 [==============================] - 44s 9s/step - loss: 0.2953 - accuracy: 0.8938 - val_loss: 0.5913 - val_accuracy: 0.6833\n",
            "Epoch 3/10\n",
            "5/5 [==============================] - 45s 9s/step - loss: 0.3960 - accuracy: 0.8938 - val_loss: 0.1591 - val_accuracy: 0.9500\n",
            "Epoch 4/10\n",
            "5/5 [==============================] - 44s 9s/step - loss: 0.3094 - accuracy: 0.8813 - val_loss: 0.2975 - val_accuracy: 0.9667\n",
            "Epoch 5/10\n",
            "5/5 [==============================] - 44s 9s/step - loss: 0.2173 - accuracy: 0.9438 - val_loss: 0.3635 - val_accuracy: 0.9833\n",
            "Epoch 6/10\n",
            "5/5 [==============================] - 44s 9s/step - loss: 0.2245 - accuracy: 0.9438 - val_loss: 0.2404 - val_accuracy: 0.9667\n",
            "Epoch 7/10\n",
            "5/5 [==============================] - 44s 9s/step - loss: 0.1650 - accuracy: 0.9375 - val_loss: 0.1861 - val_accuracy: 0.9667\n",
            "Epoch 8/10\n",
            "5/5 [==============================] - 47s 9s/step - loss: 0.1660 - accuracy: 0.9250 - val_loss: 0.0997 - val_accuracy: 0.9833\n",
            "Epoch 9/10\n",
            "5/5 [==============================] - 44s 9s/step - loss: 0.1423 - accuracy: 0.9375 - val_loss: 0.1318 - val_accuracy: 0.9667\n",
            "Epoch 10/10\n",
            "5/5 [==============================] - 44s 9s/step - loss: 0.0750 - accuracy: 0.9750 - val_loss: 0.0793 - val_accuracy: 0.9833\n"
          ],
          "name": "stdout"
        }
      ]
    },
    {
      "cell_type": "code",
      "metadata": {
        "id": "vV2IqxACMvK9",
        "colab_type": "code",
        "colab": {}
      },
      "source": [
        ""
      ],
      "execution_count": null,
      "outputs": []
    }
  ]
}